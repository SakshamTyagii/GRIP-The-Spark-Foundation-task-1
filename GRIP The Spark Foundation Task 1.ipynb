{
 "cells": [
  {
   "cell_type": "markdown",
   "id": "90ed912b-2662-4be4-8acd-f71cb9468b25",
   "metadata": {},
   "source": []
  },
  {
   "attachments": {},
   "cell_type": "markdown",
   "id": "2726fdb6-8e08-4911-917d-7911781b289f",
   "metadata": {},
   "source": [
    "## The Sparks Foundation: GRIP MARCH-2024\n",
    "## Data Science & Business Analytics Intern\n",
    "## Author: Saksham Tyagi\n",
    "## Task-1: Prediction Using Supervised Machine Learning Problem\n",
    "\n",
    "\n",
    "## Objective: \n",
    "  - Predict the percentage of an student based on the no. of study hours.\n"
   ]
  },
  {
   "cell_type": "markdown",
   "id": "bf58b7e9-59e2-4f34-9ea6-2b365887d87f",
   "metadata": {},
   "source": [
    "## Importing all the required libraries and loading the dataset"
   ]
  },
  {
   "cell_type": "code",
   "execution_count": 1,
   "id": "943b111f-6242-4cca-9202-0d686ad98b2c",
   "metadata": {
    "tags": []
   },
   "outputs": [],
   "source": [
    "import pandas as pd\n",
    "import numpy as np\n",
    "import matplotlib.pyplot as plt\n",
    "%matplotlib inline\n",
    "\n",
    "url = \"http://bit.ly/w-data\"\n",
    "data = pd.read_csv(url)\n"
   ]
  },
  {
   "cell_type": "markdown",
   "id": "ec1fb57b-7528-45f6-9478-25eaa4ebebca",
   "metadata": {},
   "source": [
    "## Exploring the dataset"
   ]
  },
  {
   "cell_type": "code",
   "execution_count": 2,
   "id": "27de391f-ad7d-49af-b767-6fb983ec56c8",
   "metadata": {
    "tags": []
   },
   "outputs": [
    {
     "data": {
      "text/html": [
       "<div>\n",
       "<style scoped>\n",
       "    .dataframe tbody tr th:only-of-type {\n",
       "        vertical-align: middle;\n",
       "    }\n",
       "\n",
       "    .dataframe tbody tr th {\n",
       "        vertical-align: top;\n",
       "    }\n",
       "\n",
       "    .dataframe thead th {\n",
       "        text-align: right;\n",
       "    }\n",
       "</style>\n",
       "<table border=\"1\" class=\"dataframe\">\n",
       "  <thead>\n",
       "    <tr style=\"text-align: right;\">\n",
       "      <th></th>\n",
       "      <th>Hours</th>\n",
       "      <th>Scores</th>\n",
       "    </tr>\n",
       "  </thead>\n",
       "  <tbody>\n",
       "    <tr>\n",
       "      <th>0</th>\n",
       "      <td>2.5</td>\n",
       "      <td>21</td>\n",
       "    </tr>\n",
       "    <tr>\n",
       "      <th>1</th>\n",
       "      <td>5.1</td>\n",
       "      <td>47</td>\n",
       "    </tr>\n",
       "    <tr>\n",
       "      <th>2</th>\n",
       "      <td>3.2</td>\n",
       "      <td>27</td>\n",
       "    </tr>\n",
       "    <tr>\n",
       "      <th>3</th>\n",
       "      <td>8.5</td>\n",
       "      <td>75</td>\n",
       "    </tr>\n",
       "    <tr>\n",
       "      <th>4</th>\n",
       "      <td>3.5</td>\n",
       "      <td>30</td>\n",
       "    </tr>\n",
       "  </tbody>\n",
       "</table>\n",
       "</div>"
      ],
      "text/plain": [
       "   Hours  Scores\n",
       "0    2.5      21\n",
       "1    5.1      47\n",
       "2    3.2      27\n",
       "3    8.5      75\n",
       "4    3.5      30"
      ]
     },
     "execution_count": 2,
     "metadata": {},
     "output_type": "execute_result"
    }
   ],
   "source": [
    "data.head()"
   ]
  },
  {
   "cell_type": "markdown",
   "id": "c395642a-3d47-4b8b-979e-970f2defb6d8",
   "metadata": {},
   "source": [
    "## Visualizing the dataset"
   ]
  },
  {
   "cell_type": "code",
   "execution_count": 4,
   "id": "51d71baa-2c14-4925-9a87-e819c6d8cdbb",
   "metadata": {
    "tags": []
   },
   "outputs": [
    {
     "data": {
      "image/png": "[encoded data removed]",
      "text/plain": [
       "<Figure size 640x480 with 1 Axes>"
      ]
     },
     "metadata": {},
     "output_type": "display_data"
    }
   ],
   "source": [
    "data.plot(kind='scatter', x='Hours', y='Scores')\n",
    "plt.title('Hours vs Percentage')\n",
    "plt.xlabel('Hours Studied')\n",
    "plt.ylabel('Percentage Score')\n",
    "plt.show()"
   ]
  },
  {
   "cell_type": "markdown",
   "id": "be96e2e8-88f0-4617-8eac-b9d780b67b38",
   "metadata": {},
   "source": [
    "##  Preparing the data"
   ]
  },
  {
   "cell_type": "code",
   "execution_count": 4,
   "id": "259e9d32-9421-4b30-b4db-3ccfa20b7de5",
   "metadata": {
    "tags": []
   },
   "outputs": [],
   "source": [
    "X = data.iloc[:, :-1].values\n",
    "y = data.iloc[:, 1].values"
   ]
  },
  {
   "cell_type": "markdown",
   "id": "d2c9498d-e968-4a4d-a3f0-c3ac0bc33d7c",
   "metadata": {},
   "source": [
    "##  Splitting the dataset into training and testing data"
   ]
  },
  {
   "cell_type": "code",
   "execution_count": 5,
   "id": "a98a285b-98e5-40f8-bbac-76e2d821abfb",
   "metadata": {
    "tags": []
   },
   "outputs": [],
   "source": [
    "from sklearn.model_selection import train_test_split\n",
    "\n",
    "X_train, X_test, y_train, y_test = train_test_split(X, y, test_size=0.2, random_state=0)"
   ]
  },
  {
   "cell_type": "markdown",
   "id": "a190507e-781e-4fb1-954e-6e8d9ecd5768",
   "metadata": {},
   "source": [
    "## Training the algorithm"
   ]
  },
  {
   "cell_type": "code",
   "execution_count": 6,
   "id": "841d927d-f4a4-472e-b68d-d4fae8bebadd",
   "metadata": {
    "tags": []
   },
   "outputs": [
    {
     "data": {
      "text/plain": [
       "LinearRegression()"
      ]
     },
     "execution_count": 6,
     "metadata": {},
     "output_type": "execute_result"
    }
   ],
   "source": [
    "from sklearn.linear_model import LinearRegression\n",
    "\n",
    "regressor = LinearRegression()\n",
    "regressor.fit(X_train, y_train)"
   ]
  },
  {
   "cell_type": "markdown",
   "id": "212684ff-f3a7-4da3-954d-2c1ffabb9a51",
   "metadata": {
    "tags": []
   },
   "source": [
    "##  Making predictions"
   ]
  },
  {
   "cell_type": "code",
   "execution_count": 7,
   "id": "012cc6fa-aec8-4aad-b1b1-a68ba724d254",
   "metadata": {
    "tags": []
   },
   "outputs": [],
   "source": [
    "y_pred = regressor.predict(X_test)\n"
   ]
  },
  {
   "cell_type": "markdown",
   "id": "ca8aff91-a1f0-453b-90ee-ea788f313c18",
   "metadata": {},
   "source": [
    "## Evaluating the algorithm"
   ]
  },
  {
   "cell_type": "code",
   "execution_count": 8,
   "id": "4de5e5cb-97fe-43d8-aadd-0a3f2707edad",
   "metadata": {
    "tags": []
   },
   "outputs": [
    {
     "name": "stdout",
     "output_type": "stream",
     "text": [
      "Mean Absolute Error: 4.18385989900298\n"
     ]
    }
   ],
   "source": [
    "from sklearn.metrics import mean_absolute_error\n",
    "\n",
    "print('Mean Absolute Error:', mean_absolute_error(y_test, y_pred))"
   ]
  },
  {
   "cell_type": "markdown",
   "id": "b001d6a4-7088-4d8b-b12e-48cfdf5e6730",
   "metadata": {},
   "source": [
    "##  Making the final prediction"
   ]
  },
  {
   "cell_type": "code",
   "execution_count": 9,
   "id": "a445d0e5-ae42-4345-9001-659fda8aa05d",
   "metadata": {
    "tags": []
   },
   "outputs": [
    {
     "name": "stdout",
     "output_type": "stream",
     "text": [
      "No of Hours = 9.25\n",
      "Predicted Score = 93.69173248737538\n"
     ]
    }
   ],
   "source": [
    "hours = 9.25\n",
    "own_pred = regressor.predict([[hours]])\n",
    "print(\"No of Hours = {}\".format(hours))\n",
    "print(\"Predicted Score = {}\".format(own_pred[0]))"
   ]
  }
 ],
 "metadata": {
  "kernelspec": {
   "display_name": "Python 3 (ipykernel)",
   "language": "python",
   "name": "python3"
  },
  "language_info": {
   "codemirror_mode": {
    "name": "ipython",
    "version": 3
   },
   "file_extension": ".py",
   "mimetype": "text/x-python",
   "name": "python",
   "nbconvert_exporter": "python",
   "pygments_lexer": "ipython3",
   "version": "3.12.1"
  }
 },
 "nbformat": 4,
 "nbformat_minor": 5
}
